{
 "cells": [
  {
   "cell_type": "markdown",
   "metadata": {},
   "source": [
    "# Introducing BART\n",
    "> Episode 1 -- a mysterious new Seq2Seq model with state of the art summarization performance visits a popular open source library\n",
    "\n",
    "- toc: true \n",
    "- badges: true\n",
    "- comments: true\n",
    "- categories: [jupyter]\n",
    "- image: images/text_infilling.png"
   ]
  },
  {
   "cell_type": "markdown",
   "metadata": {},
   "source": [
    "### Overview\n",
    "\n",
    "For the past few weeks, I worked on integrating BART into [transformers](https://github.com/huggingface/transformers/). This post covers the high-level differences between BART and its predecessors and how to use the new `BartForConditionalGeneration` to summarize documents. Leave a comment below if you have any questions!"
   ]
  },
  {
   "cell_type": "markdown",
   "metadata": {},
   "source": [
    "### Background: Seq2Seq Pretraining\n",
    "In October 2019, teams from Google and Facebook published new transformer papers:  [T5](https://arxiv.org/abs/1910.10683) and [BART](https://arxiv.org/abs/1910.13461). Both papers achieved better downstream performance on generation tasks, like abstractive summarization and dialogue, with two changes:\n",
    "- add a causal decoder to BERT's bidirectional encoder architecture\n",
    "- replace BERT's fill-in-the blank cloze task with a more complicated mix of pretraining tasks.\n",
    "\n",
    "<!-- **Tasks:** Historically, Seq2Seq models have been used for text generation tasks like summarization and translation. \"BART is particularly effective when finetuned for text generation, but also matches the performance of RoBERTa on GLUE and SQuAD\", with only 10% more parameters. -->"
   ]
  },
  {
   "cell_type": "markdown",
   "metadata": {
    "ExecuteTime": {
     "end_time": "2020-03-07T21:17:48.798208Z",
     "start_time": "2020-03-07T21:17:48.793226Z"
    }
   },
   "source": [
    "Now let's dig deeper into the big Seq2Seq pretraining idea!"
   ]
  },
  {
   "cell_type": "markdown",
   "metadata": {},
   "source": [
    "#### Bert vs. GPT2\n",
    "As the BART authors write,\n",
    "> (BART) can be seen as generalizing Bert (due to the bidirectional encoder) and GPT2 (with the left to right decoder). \n",
    "\n",
    "\n",
    "Bert is pretrained to try to predict masked tokens, and uses the whole sequence to get enough info to make a good guess. This is good for tasks where the prediction at position `i` is allowed to utilize information from positions after `i`, but less useful for tasks, like text generation, where the prediction for position `i` can only depend on previously generated words.\n",
    "\n",
    "In code, the idea of \"what information can be used use when predicting the token at position `i`\" is controlled by an argument called `attention_mask`[^2]. A value of 1 in the attention mask means that the model can use information for the column's word when predicting the row's word.\n",
    "    \n",
    "<!-- > Note: In this post, we show attention masks in grids where each row `y` represents an output token, and each column `x` represents an input token. If the square at `(y3, x4)` is black. It means that our prediction for `y3` is allowed to utilize information from `x4`. During pretraining, `x` would be the corrupted document, and `y` would be the original. -->\n",
    "\n",
    "\n",
    "Here is Bert's \"Fully-visible\"[^3] `attention_mask`: \n",
    "    \n",
    "<!-- ![](./bert_mac_small.jpg) -->\n",
    "<!-- ![](./diagram_bartpost_v2.jpg) -->\n",
    "<!-- ![](./bert_excel_v2.jpg) -->\n",
    "![](./diagram_bert_v5.png)\n",
    "\n",
    "[^2]: the same parameter that is used to make model predictions invariant to pad tokens.\n",
    "[^3]: \"Fully-Visible\" and \"bidirectional\" are used interchangeably. Same with \"causal\" and \"autoregressive\"."
   ]
  },
  {
   "cell_type": "markdown",
   "metadata": {
    "ExecuteTime": {
     "end_time": "2020-03-07T21:44:38.925844Z",
     "start_time": "2020-03-07T21:44:38.920749Z"
    }
   },
   "source": [
    "GPT2, meanwhile, is pretrained to predict the next word using a causal mask, and is more effective for generation tasks, but less effective on downstream tasks where the whole input yields information for the output.\n",
    "\n",
    "Here is the `attention_mask` for GPT2:\n",
    "\n",
    "![](./diagram_bartpost_gpt2.jpg)\n",
    "\n",
    "\n",
    "The prediction for \"eating\", only utilizes previous words: \"`<BOS>` I love\"."
   ]
  },
  {
   "cell_type": "markdown",
   "metadata": {},
   "source": [
    "#### Encoder-Decoder\n",
    "Our new friends, like BART, get the best of both worlds. \n",
    "\n",
    "The encoder's `attention_mask` is fully visible, like BERT:\n",
    "![](./seq2seq_enc_v5.png)\n",
    "\n",
    "The decoder's `attention_mask` is causal, like GPT2:\n",
    "\n",
    "![](./seq2seq_dec.png)\n",
    "\n",
    "<!-- ![](./causal_with_prefix.jpg) -->\n",
    "\n",
    "\n",
    "<!-- We can think about this `attention_mask` as smushing together our previous two attention masks, or \"Causal Mask  with a fully visible prefix\" in fancier terms.[^4] -->\n",
    "\n",
    "<!-- [^4]: The UniLM paper presents this as a\"causal mask with a fully visible prefix\" -->\n",
    "<!-- , as the UniLM The indices dont line up perfectly for the smush to work, but tokens 1 and 2 are the fully visible prefix (or the input to the encoder) and tokens 3,4,5 are the causally masked suffix (or inputs to the decoder). In summarization terms, you could imagine tokens 1 and 2 as the article, and we generate tokens 3-5 auto-regressively. -->\n",
    "\n",
    "<!-- ![](./t5_mask_diagram.png) -->"
   ]
  },
  {
   "cell_type": "markdown",
   "metadata": {},
   "source": [
    "The encoder and decoder are connected by cross-attention, where each decoder layer performs attention over the final hidden state of the encoder output. This presumably nudges the models towards generating output that is closely connected to the original input.\n"
   ]
  },
  {
   "cell_type": "markdown",
   "metadata": {
    "ExecuteTime": {
     "end_time": "2020-03-12T05:00:04.310698Z",
     "start_time": "2020-03-12T05:00:04.269069Z"
    }
   },
   "source": [
    "#### Pretraining: Fill In the Span\n",
    "Bart and T5 are both pretrained[^5] on tasks where **spans** of text are replaced by masked tokens. The model must learn to reconstruct the original document. Figure 1 from the BART paper explains it well:\n",
    "\n",
    "![](./text_infilling.png)\n",
    "In this example, the original document is A B C D E. the span `[C, D]` is masked before encoding and an extra mask is inserted before B, leaving the corrupted document `'A _ B _ E'` as input to the encoder. \n",
    "\n",
    "The decoder (autogressive means \"uses a causal mask\") must reconstruct the original document, using the encoder's output and previous uncorrupted tokens.\n",
    "[^5]: This is a bit of a simplification. Both papers experiment with many different pretraining tasks, and find that this one performs well. T5 uses a \"replace corrupted spans\" task. Instead of putting masks, they put in a random token."
   ]
  },
  {
   "cell_type": "markdown",
   "metadata": {
    "ExecuteTime": {
     "end_time": "2020-03-09T20:34:20.044872Z",
     "start_time": "2020-03-09T20:34:20.042569Z"
    }
   },
   "source": [
    "### Summarization"
   ]
  },
  {
   "cell_type": "markdown",
   "metadata": {},
   "source": [
    "In summarization tasks, the `input` sequence is the document we want to summarize, and the `output` sequence is a ground truth summary.\n",
    "Seq2Seq archictectures can be directly finetuned on summarization tasks, without any new randomly initialized heads. The pretraining task is also a good match for the downstream task. In both settings, the input document must be copied from the input with modification. The numbers confirm this: all the new fancy Seq2Seq models do a lot better than the old less-fancy guys on the CNN/Daily Mail abstractive summarization task, and BART does especially well."
   ]
  },
  {
   "cell_type": "markdown",
   "metadata": {
    "ExecuteTime": {
     "end_time": "2020-03-11T17:54:04.908553Z",
     "start_time": "2020-03-11T17:54:04.902522Z"
    }
   },
   "source": [
    "|                Model |   Rouge2 | Model Size   | Pretraining   |\n",
    "|:---------------------|---------:|:-------------|:--------------|\n",
    "| PT-Gen               |    17.28 | 22 M         | None          |\n",
    "| TransformerAbs       |    17.76 | 200M         | None          |\n",
    "| BertSumABS           |    19.39 | 220 M        | Encoder       |\n",
    "| UniLM                |    20.3  | 340 M        | Seq2Seq       |\n",
    "| T5-base              |    20.34 | 770 M        | Seq2Seq       |\n",
    "| Bart                 |    21.28 | 406 M        | Seq2Seq       |\n",
    "| T5-11B               |    21.55 | 11 B         | Seq2Seq       |"
   ]
  },
  {
   "cell_type": "markdown",
   "metadata": {
    "ExecuteTime": {
     "end_time": "2020-03-07T20:22:23.597072Z",
     "start_time": "2020-03-07T20:22:23.524178Z"
    }
   },
   "source": [
    "- `BertSumABS` (from [*Text Summarization with Pretrained Encoders*](https://arxiv.org/abs/1908.08345), uses a Seq2Seq architecture but doesn't pretrain the decoder. `TransformerAbs`, from the same paper, uses a slightly smaller model and no pretraining. \n",
    "- `PT-Gen` is from [Get To The Point: Summarization with Pointer-Generator Networks](https://arxiv.org/pdf/1704.04368.pdf)\n",
    "- [UniLM](https://arxiv.org/abs/1905.03197) is a \"Prefix-LM\" with a similar masking strategy to Bart and T5.\n"
   ]
  },
  {
   "cell_type": "markdown",
   "metadata": {},
   "source": [
    "### Demo: BartForConditionalGeneration "
   ]
  },
  {
   "cell_type": "code",
   "execution_count": 193,
   "metadata": {
    "ExecuteTime": {
     "end_time": "2020-03-11T17:41:37.001567Z",
     "start_time": "2020-03-11T17:41:36.984621Z"
    },
    "code_folding": []
   },
   "outputs": [],
   "source": [
    "#collapse-hide\n",
    "INSTALL_MSG = \"\"\"\n",
    "Bart will be released through pip in v 3.0.0, until then use it by installing from source:\n",
    "\n",
    "git clone git@github.com:huggingface/transformers.git\n",
    "git checkout d6de6423\n",
    "cd transformers\n",
    "pip install -e \".[dev]\"\n",
    "\n",
    "\"\"\"\n",
    "\n",
    "import torch\n",
    "try:\n",
    "    import transformers\n",
    "    from transformers import BartTokenizer, BartForConditionalGeneration\n",
    "except ImportError:\n",
    "    raise ImportError(INSTALL_MSG)\n",
    "from IPython.display import display, Markdown\n",
    "\n",
    "torch_device = 'cuda' if torch.cuda.is_available() else 'cpu'\n",
    "\n",
    "LONG_BORING_TENNIS_ARTICLE = \"\"\"\n",
    " Andy Murray  came close to giving himself some extra preparation time for his w\n",
    "edding next week before ensuring that he still has unfinished tennis business to\n",
    " attend to. The world No 4 is into the semi-finals of the Miami Open, but not be\n",
    "fore getting a scare from 21 year-old Austrian Dominic Thiem, who pushed him to \n",
    "4-4 in the second set before going down 3-6 6-4, 6-1 in an hour and three quarte\n",
    "rs. Murray was awaiting the winner from the last eight match between Tomas Berdy\n",
    "ch and Argentina's Juan Monaco. Prior to this tournament Thiem lost in the secon\n",
    "d round of a Challenger event to soon-to-be new Brit Aljaz Bedene. Andy Murray p\n",
    "umps his first after defeating Dominic Thiem to reach the Miami Open semi finals\n",
    " . Muray throws his sweatband into the crowd after completing a 3-6, 6-4, 6-1 vi\n",
    "ctory in Florida . Murray shakes hands with Thiem who he described as a 'strong \n",
    "guy' after the game . And Murray has a fairly simple message for any of his fell\n",
    "ow British tennis players who might be agitated about his imminent arrival into \n",
    "the home ranks: don't complain. Instead the British No 1 believes his colleagues\n",
    " should use the assimilation of the world number 83, originally from Slovenia, a\n",
    "s motivation to better themselves. At present any grumbles are happening in priv\n",
    "ate, and Bedene's present ineligibility for the Davis Cup team has made it less \n",
    "of an issue, although that could change if his appeal to play is allowed by the \n",
    "International Tennis Federation. Murray thinks anyone questioning the move, now \n",
    "it has become official, would be better working on getting their ranking closer \n",
    "to his. 'If he was 500 in the world they wouldn't be that fussed about it but ob\n",
    "viously he threatens their position a bit,' said the 27 year-old Scot. ' and he'\n",
    "s obviously the British number two, comfortably. 'So they can complain but the b\n",
    "est thing to do is use it in the right way and accept it for what it is, and try\n",
    " to use it as motivation whether they agree with it or not. He's British now so \n",
    "they've just got to deal with it. Murray stretches for a return after starting h\n",
    "is quarter final match slowly on the show court . Thiem held nothing back as he \n",
    "raced through the opening set, winning it 6-3 with a single break . The young Au\n",
    "strian is considered to be one of the hottest prospects on the ATP Tour . 'I wou\n",
    "ld hope that all the guys who are below him now like James (Ward) , Kyle (Edmund\n",
    ") , Liam (Broady) they will use it as motivation. If he becomes eligible for Dav\n",
    "is Cup then those guys are going to have to prove themselves. 'It can only be se\n",
    "en as a positive for those guys using it to try to get better. He's a good playe\n",
    "r but so are James and Kyle and Liam has improved. Aljaz is there, he's on the t\n",
    "our every week, the other guys aren't quite there yet.' For the first time Murra\n",
    "y, who has an encyclopaedic knowledge of the top 100, gave his opinion of Bedene\n",
    ": 'He's a good player with a very good serve. He's a legitimate top 100 player, \n",
    "when he plays Challengers he's there or thereabouts, when he plays on the main t\n",
    "our he wins matches, it's not like he turns up and always loses in the first rou\n",
    "nd. Murray's fiancee was once again watching from the stands shaded by a huge br\n",
    "immed hat . Kim Sears flashes her enormous diamond engagement ring while watchin\n",
    "g her beau on court . 'He had a bad injury last year (wrist) but has recovered w\n",
    "ell. I would imagine he would keep moving up the rankings although I don't know \n",
    "exactly how high he can go. I've practised with him a couple of times, I haven't\n",
    " seen him play loads, but when you serve as well as he does it helps. I would im\n",
    "agine he' s going to be comfortably in the top 70 or 80 in the world for a while\n",
    ".' It is understood the Lawn Tennis Association will give background support to \n",
    "his case regarding the Davis Cup but have made it clear that the onus is on him \n",
    "to lead the way. An official statement said: 'To have another player in the men'\n",
    "s top 100 is clearly a positive thing for British tennis and so we very much wel\n",
    "come Aljaz's change in citizenship.' The last comparable switch came twenty year\n",
    "s ago when Greg Rusedski arrived from Canada. It was by no means universally pop\n",
    "ular but, like Bedene, he pledged that he was in for the long haul and, in fairn\n",
    "ess to him, he proved true to his word. Loising the first set shocked Murray int\n",
    "o life as he raced to a commanding lead in the second . The No 3 seed sent over \n",
    "a few glaring looks towards his team before winning the second set . Murray had \n",
    "to put such matters aside as he tackled the unusually talented Thiem, a delight \n",
    "to watch. Coached by Boris Becker's veteran mentor Gunter Bresnik, he slightly r\n",
    "esembles Andy Roddick and hits with similar power but more elegance. His single \n",
    "handed backhand is a thing of rare beauty. However, he has had a mediocre season\n",
    " coming into this event and there was little to forewarn of his glorious shotmak\n",
    "ing that seemed to catch Murray unawares early on. The world No 4 looked to have\n",
    " worked him out in the second, but then suffered one of his periopdic mental lap\n",
    "ses and let him back in from 4-1 before closing it out with a break. After break\n",
    "ing him for 3-1 in the decider the Austrian whirlwind burnt itself out. 'He's a \n",
    "strong guy who hits the ball hard and it became a very physical match,' said Mur\n",
    "ray. Murray was presented with a celebratory cake after winning his 500th match \n",
    "in the previous round .\n",
    "\"\"\".replace('\\n','')"
   ]
  },
  {
   "cell_type": "code",
   "execution_count": 208,
   "metadata": {
    "ExecuteTime": {
     "end_time": "2020-03-12T04:11:23.622042Z",
     "start_time": "2020-03-12T04:10:44.318808Z"
    }
   },
   "outputs": [
    {
     "data": {
      "text/markdown": [
       "> **Summary: **Andy Murray beat Dominic Thiem 3-6, 6-4, 6-1 in the Miami Open. The world No 4 is into the semi-finals of the tournament in Florida. Murray was awaiting the winner from the last eight match between Tomas Berdych and Argentina's Juan Monaco. Thiem lost in the second round of a Challenger event to Aljaz Bedene."
      ],
      "text/plain": [
       "<IPython.core.display.Markdown object>"
      ]
     },
     "metadata": {},
     "output_type": "display_data"
    }
   ],
   "source": [
    "#collapse-show\n",
    "tokenizer = BartTokenizer.from_pretrained('bart-large-cnn')\n",
    "model = BartForConditionalGeneration.from_pretrained('bart-large-cnn')\n",
    "\n",
    "article_input_ids = tokenizer.batch_encode_plus([LONG_BORING_TENNIS_ARTICLE], return_tensors='pt', max_length=1024)['input_ids'].to(torch_device)\n",
    "summary_ids = model.generate(article_input_ids,\n",
    "                             num_beams=4,\n",
    "                             length_penalty=2.0,\n",
    "                             max_length=142,\n",
    "                             min_length=56,\n",
    "                             no_repeat_ngram_size=3)\n",
    "\n",
    "summary_txt = tokenizer.decode(summary_ids.squeeze(), skip_special_tokens=True)\n",
    "display(Markdown('> **Summary: **'+summary_txt))"
   ]
  },
  {
   "cell_type": "markdown",
   "metadata": {},
   "source": [
    "GPT2, which in fairness is not finetuned for summarization, cannot really continue the tennis article sensically."
   ]
  },
  {
   "cell_type": "code",
   "execution_count": 207,
   "metadata": {
    "ExecuteTime": {
     "end_time": "2020-03-12T03:35:25.521518Z",
     "start_time": "2020-03-12T03:35:25.463250Z"
    }
   },
   "outputs": [
    {
     "data": {
      "text/markdown": [
       "> **GPT2:**  'To have a player like James Ward, Kyle Edmund, Liam Broady and Aljaz Bedene in the top 100 is a huge achievement for the Lawn Tennis Association. The Lawn Tennis Association is committed to the development of the sport and the development of the sport's players. The Lawn Tennis Association is committed to the development of the sport and the development of the sport's players. The Lawn Tennis Association is committed to the development of the sport and the development of the sport's players. The Lawn Tennis Association is committed to the development of the sport and the development of the sport's players. The Lawn Tennis Association is committed to the development of the sport and the development of the sport's players. The Lawn Tennis Association is committed to the development of the sport and the development of the"
      ],
      "text/plain": [
       "<IPython.core.display.Markdown object>"
      ]
     },
     "metadata": {},
     "output_type": "display_data"
    }
   ],
   "source": [
    "#collapse-show\n",
    "from transformers import GPT2LMHeadModel, GPT2Tokenizer\n",
    "gpt2_tok = GPT2Tokenizer.from_pretrained('gpt2')\n",
    "gpt2_model = GPT2LMHeadModel.from_pretrained('gpt2', output_past=True)\n",
    "# truncate to 869 tokens so that we have space to generate another 155\n",
    "enc = gpt2_tok.encode(LONG_BORING_TENNIS_ARTICLE, max_length=1024-155, return_tensors='pt') \n",
    "# Generate another 155 tokens\n",
    "source_and_summary_ids = gpt2_model.generate(enc, max_length=1024, do_sample=False)\n",
    "# Only show the new ones\n",
    "end_of_source = \"An official statement said:\" \n",
    "_, summary_gpt2 = gpt2_tok.decode(source_and_summary_ids[0]).split(end_of_source)\n",
    "display(Markdown('> **GPT2:** ' + summary_gpt2))"
   ]
  },
  {
   "cell_type": "markdown",
   "metadata": {},
   "source": [
    "More importantly, these snippets show that even though `BartForConditionalGeneration` is a Seq2Seq model, while `GPT2LMHeadModel` is not, they can be invoked in similar ways for generation."
   ]
  },
  {
   "cell_type": "markdown",
   "metadata": {},
   "source": [
    "## Conclusion\n",
    "Our first release of `BartModel` prioritized moving quickly and keeping the code simple, but it's still a work in progress. I am currently working on making the implementation in transformers faster and more memory efficient, so stay tuned for episode 2!\n",
    "\n",
    "A big thank you to Sasha Rush, Patrick von Platen, Thomas Wolf, Clement Delangue, Victor Sanh, Yacine Jernite, Harrison Chase and Colin Raffel for their feedback on earlier versions of this post, and to the BART authors for releasing their code and answering questions on GitHub."
   ]
  }
 ],
 "metadata": {
  "hide_input": false,
  "kernelspec": {
   "display_name": "Python 3",
   "language": "python",
   "name": "python3"
  },
  "language_info": {
   "codemirror_mode": {
    "name": "ipython",
    "version": 3
   },
   "file_extension": ".py",
   "mimetype": "text/x-python",
   "name": "python",
   "nbconvert_exporter": "python",
   "pygments_lexer": "ipython3",
   "version": "3.7.5"
  }
 },
 "nbformat": 4,
 "nbformat_minor": 4
}
